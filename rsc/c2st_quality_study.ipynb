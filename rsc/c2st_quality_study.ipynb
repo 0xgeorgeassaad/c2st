{
 "cells": [
  {
   "cell_type": "code",
   "execution_count": 1,
   "metadata": {
    "collapsed": false
   },
   "outputs": [],
   "source": [
    "import sys\n",
    "from pathlib import Path\n",
    "\n",
    "reporoot = Path(\".\").absolute().parent\n"
   ]
  },
  {
   "cell_type": "code",
   "execution_count": 2,
   "metadata": {
    "collapsed": false
   },
   "outputs": [],
   "source": [
    "sys.path.append(str(reporoot))\n"
   ]
  },
  {
   "cell_type": "code",
   "execution_count": 3,
   "metadata": {
    "collapsed": false
   },
   "outputs": [],
   "source": [
    "from c2st.check import c2st\n"
   ]
  },
  {
   "cell_type": "code",
   "execution_count": 4,
   "metadata": {
    "collapsed": false
   },
   "outputs": [
    {
     "name": "stdout",
     "output_type": "stream",
     "text": [
      "Help on function c2st in module c2st.check:\n",
      "\n",
      "c2st(X: numpy.ndarray, Y: numpy.ndarray, seed: int = 1, n_folds: int = 5, scoring: str = 'accuracy', z_score: bool = True, noise_scale: Optional[float] = None, verbosity: int = 0, clf_class=<class 'sklearn.ensemble._forest.RandomForestClassifier'>, clf_kwargs={}) -> numpy.ndarray\n",
      "    Return accuracy of classifier trained to distinguish samples from supposedly\n",
      "    two distributions <X> and <Y>. For details on the method, see [1,2].\n",
      "    If the returned accuracy is 0.5, <X> and <Y> are considered to be from the\n",
      "    same generating PDF, i.e. they can not be differentiated.\n",
      "    If the returned accuracy is around 1., <X> and <Y> are considered to be from\n",
      "    two different generating PDFs.\n",
      "    \n",
      "    Trains classifiers with N-fold cross-validation [3]. By default, a `RandomForestClassifier`\n",
      "    by scikit-learn is used. This can be adopted using <clf_class> and\n",
      "    <clf_kwargs> as in:\n",
      "    \n",
      "    ``` py\n",
      "    clf = clf_class(random_state=seed, **clf_kwargs)\n",
      "    #...\n",
      "    scores = cross_val_score(\n",
      "        clf, data, target, cv=shuffle, scoring=scoring, verbose=verbosity\n",
      "    )\n",
      "    ```\n",
      "    \n",
      "    Args:\n",
      "        X: Samples from one distribution.\n",
      "        Y: Samples from another distribution.\n",
      "        seed: Seed for sklearn\n",
      "        n_folds: Number of folds\n",
      "        z_score: Z-scoring using X\n",
      "        noise_scale: If passed, will add Gaussian noise with std noise_scale to samples of X and of Y\n",
      "        verbosity: control the verbosity of sklearn.model_selection.cross_val_score\n",
      "        clf_class: a scikit-learn classifier class\n",
      "        clf_kwargs: key-value arguments dictuinary to the class specified by clf_class, e.g. sklearn.ensemble.RandomForestClassifier\n",
      "    \n",
      "    Example:\n",
      "    ``` py\n",
      "    > c2st(X,Y)\n",
      "    [0.51904464]\n",
      "    #X and Y likely come from the same PDF or ensemble\n",
      "    ```\n",
      "    References:\n",
      "        [1]: http://arxiv.org/abs/1610.06545\n",
      "        [2]: https://www.osti.gov/biblio/826696/\n",
      "        [3]: https://scikit-learn.org/stable/modules/cross_validation.html\n",
      "\n"
     ]
    }
   ],
   "source": [
    "help(c2st)"
   ]
  },
  {
   "cell_type": "code",
   "execution_count": 5,
   "metadata": {
    "collapsed": false
   },
   "outputs": [],
   "source": [
    "from __future__ import annotations\n",
    "import numpy as np\n",
    "from functools import partial\n",
    "from numpy.random import default_rng\n",
    "from sklearn.ensemble import RandomForestClassifier\n",
    "from sklearn.model_selection import KFold, cross_val_score\n",
    "from sklearn.neural_network import MLPClassifier\n",
    "import time\n",
    "FIXEDSEED = 1309"
   ]
  },
  {
   "cell_type": "code",
   "execution_count": 6,
   "metadata": {
    "collapsed": false
   },
   "outputs": [],
   "source": [
    "def nn_c2st(\n",
    "    X: np.ndarray,\n",
    "    Y: np.ndarray,\n",
    "    seed: int = FIXEDSEED,\n",
    "    n_folds: int = 5,\n",
    "    scoring: str = \"accuracy\",\n",
    "    z_score: bool = True,\n",
    "    noise_scale: Optional[float] = None,\n",
    "    verbosity: int = 0,\n",
    ") -> np.ndarray:\n",
    "\n",
    "    ndim = X.shape[1]\n",
    "    clf_class = MLPClassifier\n",
    "    clf_kwargs = {\n",
    "        \"activation\": \"relu\",\n",
    "        \"hidden_layer_sizes\": (10 * ndim, 10 * ndim),\n",
    "        \"max_iter\": 1000,\n",
    "        \"solver\": \"adam\",\n",
    "    }\n",
    "\n",
    "    return c2st(\n",
    "        X,\n",
    "        Y,\n",
    "        seed,\n",
    "        n_folds,\n",
    "        scoring,\n",
    "        z_score,\n",
    "        noise_scale,\n",
    "        verbosity,\n",
    "        clf_class,\n",
    "        clf_kwargs,\n",
    "    )"
   ]
  },
  {
   "cell_type": "code",
   "execution_count": 7,
   "metadata": {
    "collapsed": false
   },
   "outputs": [
    {
     "name": "stdout",
     "output_type": "stream",
     "text": [
      "[128, 256, 512, 1024, 2048, 8096]\n"
     ]
    }
   ],
   "source": [
    "NDIM = 10\n",
    "max_nsamples = 8096\n",
    "sample_sizes = [ 2**it for it in range(7,12)]\n",
    "sample_sizes.append(max_nsamples)\n",
    "RNG = default_rng(FIXEDSEED)\n",
    "print(sample_sizes)"
   ]
  },
  {
   "cell_type": "code",
   "execution_count": 19,
   "metadata": {
    "collapsed": false
   },
   "outputs": [],
   "source": [
    "center_normal = partial(RNG.multivariate_normal, mean=np.zeros(NDIM), cov=np.eye(NDIM))\n",
    "distributions = { 0. : center_normal}\n",
    "\n",
    "for alpha in np.linspace(0,2,9):\n",
    "    distributions[alpha] = partial(RNG.multivariate_normal, mean=np.zeros(NDIM) + alpha, cov=np.eye(NDIM))\n",
    "\n"
   ]
  },
  {
   "cell_type": "code",
   "execution_count": 20,
   "metadata": {
    "collapsed": false
   },
   "outputs": [],
   "source": [
    "samples = {}\n",
    "for k,v in distributions.items():\n",
    "    samples[k] = v(size=max_nsamples)\n",
    "\n",
    "assert samples[0.].shape == (8096, 10)"
   ]
  },
  {
   "cell_type": "code",
   "execution_count": 21,
   "metadata": {
    "collapsed": false
   },
   "outputs": [
    {
     "name": "stdout",
     "output_type": "stream",
     "text": [
      "1/54: 0.0[128,...] = [0.5309201] (0.5159294605255127 seconds)\n"
     ]
    },
    {
     "name": "stdout",
     "output_type": "stream",
     "text": [
      "2/54: 0.0[256,...] = [0.4959452] (0.65325927734375 seconds)\n"
     ]
    },
    {
     "name": "stdout",
     "output_type": "stream",
     "text": [
      "3/54: 0.0[512,...] = [0.5487709] (0.994964599609375 seconds)\n"
     ]
    },
    {
     "name": "stdout",
     "output_type": "stream",
     "text": [
      "4/54: 0.0[1024,...] = [0.5092993] (1.8338210582733154 seconds)\n"
     ]
    },
    {
     "name": "stdout",
     "output_type": "stream",
     "text": [
      "5/54: 0.0[2048,...] = [0.50682926] (3.970792293548584 seconds)\n"
     ]
    },
    {
     "name": "stdout",
     "output_type": "stream",
     "text": [
      "6/54: 0.0[8096,...] = [0.5030264] (21.190895557403564 seconds)\n"
     ]
    },
    {
     "name": "stdout",
     "output_type": "stream",
     "text": [
      "7/54: 0.25[128,...] = [0.5702866] (0.4957125186920166 seconds)\n"
     ]
    },
    {
     "name": "stdout",
     "output_type": "stream",
     "text": [
      "8/54: 0.25[256,...] = [0.6290501] (0.6247773170471191 seconds)\n"
     ]
    },
    {
     "name": "stdout",
     "output_type": "stream",
     "text": [
      "9/54: 0.25[512,...] = [0.63085127] (0.9626574516296387 seconds)\n"
     ]
    },
    {
     "name": "stdout",
     "output_type": "stream",
     "text": [
      "10/54: 0.25[1024,...] = [0.623547] (1.6151199340820312 seconds)\n"
     ]
    },
    {
     "name": "stdout",
     "output_type": "stream",
     "text": [
      "11/54: 0.25[2048,...] = [0.6367167] (3.2666213512420654 seconds)\n"
     ]
    },
    {
     "name": "stdout",
     "output_type": "stream",
     "text": [
      "12/54: 0.25[8096,...] = [0.6366715] (14.225350379943848 seconds)\n"
     ]
    },
    {
     "name": "stdout",
     "output_type": "stream",
     "text": [
      "13/54: 0.5[128,...] = [0.69947207] (0.48907971382141113 seconds)\n"
     ]
    },
    {
     "name": "stdout",
     "output_type": "stream",
     "text": [
      "14/54: 0.5[256,...] = [0.7423187] (0.6067798137664795 seconds)\n"
     ]
    },
    {
     "name": "stdout",
     "output_type": "stream",
     "text": [
      "15/54: 0.5[512,...] = [0.75392634] (0.8784573078155518 seconds)\n"
     ]
    },
    {
     "name": "stdout",
     "output_type": "stream",
     "text": [
      "16/54: 0.5[1024,...] = [0.77295965] (1.4654514789581299 seconds)\n"
     ]
    },
    {
     "name": "stdout",
     "output_type": "stream",
     "text": [
      "17/54: 0.5[2048,...] = [0.76513475] (2.8497238159179688 seconds)\n"
     ]
    },
    {
     "name": "stdout",
     "output_type": "stream",
     "text": [
      "18/54: 0.5[8096,...] = [0.76790947] (12.819429397583008 seconds)\n"
     ]
    },
    {
     "name": "stdout",
     "output_type": "stream",
     "text": [
      "19/54: 0.75[128,...] = [0.8555053] (0.47698473930358887 seconds)\n"
     ]
    },
    {
     "name": "stdout",
     "output_type": "stream",
     "text": [
      "20/54: 0.75[256,...] = [0.8887112] (0.5860490798950195 seconds)\n"
     ]
    },
    {
     "name": "stdout",
     "output_type": "stream",
     "text": [
      "21/54: 0.75[512,...] = [0.88086563] (0.8349876403808594 seconds)\n"
     ]
    },
    {
     "name": "stdout",
     "output_type": "stream",
     "text": [
      "22/54: 0.75[1024,...] = [0.86864334] (1.4279158115386963 seconds)\n"
     ]
    },
    {
     "name": "stdout",
     "output_type": "stream",
     "text": [
      "23/54: 0.75[2048,...] = [0.8623017] (2.6851935386657715 seconds)\n"
     ]
    },
    {
     "name": "stdout",
     "output_type": "stream",
     "text": [
      "24/54: 0.75[8096,...] = [0.86962694] (12.227771520614624 seconds)\n"
     ]
    },
    {
     "name": "stdout",
     "output_type": "stream",
     "text": [
      "25/54: 1.0[128,...] = [0.8749623] (0.476351261138916 seconds)\n"
     ]
    },
    {
     "name": "stdout",
     "output_type": "stream",
     "text": [
      "26/54: 1.0[256,...] = [0.9042833] (0.5802707672119141 seconds)\n"
     ]
    },
    {
     "name": "stdout",
     "output_type": "stream",
     "text": [
      "27/54: 1.0[512,...] = [0.913099] (0.8170440196990967 seconds)\n"
     ]
    },
    {
     "name": "stdout",
     "output_type": "stream",
     "text": [
      "28/54: 1.0[1024,...] = [0.9272479] (1.3732187747955322 seconds)\n"
     ]
    },
    {
     "name": "stdout",
     "output_type": "stream",
     "text": [
      "29/54: 1.0[2048,...] = [0.9282248] (2.628946542739868 seconds)\n"
     ]
    },
    {
     "name": "stdout",
     "output_type": "stream",
     "text": [
      "30/54: 1.0[8096,...] = [0.93181795] (12.15562629699707 seconds)\n"
     ]
    },
    {
     "name": "stdout",
     "output_type": "stream",
     "text": [
      "31/54: 1.25[128,...] = [0.94932127] (0.46962904930114746 seconds)\n"
     ]
    },
    {
     "name": "stdout",
     "output_type": "stream",
     "text": [
      "32/54: 1.25[256,...] = [0.96874166] (0.5610203742980957 seconds)\n"
     ]
    },
    {
     "name": "stdout",
     "output_type": "stream",
     "text": [
      "33/54: 1.25[512,...] = [0.9599378] (0.7886550426483154 seconds)\n"
     ]
    },
    {
     "name": "stdout",
     "output_type": "stream",
     "text": [
      "34/54: 1.25[1024,...] = [0.9692361] (1.3193495273590088 seconds)\n"
     ]
    },
    {
     "name": "stdout",
     "output_type": "stream",
     "text": [
      "35/54: 1.25[2048,...] = [0.9677739] (2.590153217315674 seconds)\n"
     ]
    },
    {
     "name": "stdout",
     "output_type": "stream",
     "text": [
      "36/54: 1.25[8096,...] = [0.9703555] (12.321477174758911 seconds)\n"
     ]
    },
    {
     "name": "stdout",
     "output_type": "stream",
     "text": [
      "37/54: 1.5[128,...] = [0.976546] (0.4641392230987549 seconds)\n"
     ]
    },
    {
     "name": "stdout",
     "output_type": "stream",
     "text": [
      "38/54: 1.5[256,...] = [0.9785075] (0.5498793125152588 seconds)\n"
     ]
    },
    {
     "name": "stdout",
     "output_type": "stream",
     "text": [
      "39/54: 1.5[512,...] = [0.98534197] (0.7691514492034912 seconds)\n"
     ]
    },
    {
     "name": "stdout",
     "output_type": "stream",
     "text": [
      "40/54: 1.5[1024,...] = [0.98584175] (1.294787883758545 seconds)\n"
     ]
    },
    {
     "name": "stdout",
     "output_type": "stream",
     "text": [
      "41/54: 1.5[2048,...] = [0.9875485] (2.600203037261963 seconds)\n"
     ]
    },
    {
     "name": "stdout",
     "output_type": "stream",
     "text": [
      "42/54: 1.5[8096,...] = [0.98906845] (12.577839612960815 seconds)\n"
     ]
    },
    {
     "name": "stdout",
     "output_type": "stream",
     "text": [
      "43/54: 1.75[128,...] = [0.9883107] (0.5092556476593018 seconds)\n"
     ]
    },
    {
     "name": "stdout",
     "output_type": "stream",
     "text": [
      "44/54: 1.75[256,...] = [0.99023414] (0.6388118267059326 seconds)\n"
     ]
    },
    {
     "name": "stdout",
     "output_type": "stream",
     "text": [
      "45/54: 1.75[512,...] = [0.99316597] (1.0531127452850342 seconds)\n"
     ]
    },
    {
     "name": "stdout",
     "output_type": "stream",
     "text": [
      "46/54: 1.75[1024,...] = [0.9941392] (1.4125792980194092 seconds)\n"
     ]
    },
    {
     "name": "stdout",
     "output_type": "stream",
     "text": [
      "47/54: 1.75[2048,...] = [0.9958495] (2.5202813148498535 seconds)\n"
     ]
    },
    {
     "name": "stdout",
     "output_type": "stream",
     "text": [
      "48/54: 1.75[8096,...] = [0.99542993] (12.592328786849976 seconds)\n"
     ]
    },
    {
     "name": "stdout",
     "output_type": "stream",
     "text": [
      "49/54: 2.0[128,...] = [0.99230766] (0.45456409454345703 seconds)\n"
     ]
    },
    {
     "name": "stdout",
     "output_type": "stream",
     "text": [
      "50/54: 2.0[256,...] = [0.99805826] (0.5216641426086426 seconds)\n"
     ]
    },
    {
     "name": "stdout",
     "output_type": "stream",
     "text": [
      "51/54: 2.0[512,...] = [0.9980488] (0.7174582481384277 seconds)\n"
     ]
    },
    {
     "name": "stdout",
     "output_type": "stream",
     "text": [
      "52/54: 2.0[1024,...] = [0.9980476] (1.1915857791900635 seconds)\n"
     ]
    },
    {
     "name": "stdout",
     "output_type": "stream",
     "text": [
      "53/54: 2.0[2048,...] = [0.9982912] (2.37479829788208 seconds)\n"
     ]
    },
    {
     "name": "stdout",
     "output_type": "stream",
     "text": [
      "54/54: 2.0[8096,...] = [0.998456] (12.236571788787842 seconds)\n"
     ]
    }
   ],
   "source": [
    "rf_results = {}\n",
    "rf_timings = {}\n",
    "total = len(samples.values())*len(sample_sizes)\n",
    "cnt = 0\n",
    "\n",
    "for k,v in samples.items():\n",
    "    for size in sample_sizes:\n",
    "\n",
    "        try:\n",
    "            start = time.time()\n",
    "            scores = c2st(center_samples[:size,...], v[:size,...])\n",
    "            end = time.time()\n",
    "        except Exception as ex:\n",
    "            print(ex)\n",
    "            continue\n",
    "        \n",
    "        if not k in rf_results.keys():\n",
    "            rf_results[k] = []\n",
    "            rf_timings[k] = []\n",
    "\n",
    "        rf_results[k].extend(scores)\n",
    "        rf_timings[k].append(end-start)\n",
    "        cnt += 1\n",
    "\n",
    "        print(f\"{cnt}/{total}: {k}[{size},...] = {scores} ({end-start} seconds)\")"
   ]
  },
  {
   "cell_type": "code",
   "execution_count": 23,
   "metadata": {
    "collapsed": false
   },
   "outputs": [
    {
     "name": "stdout",
     "output_type": "stream",
     "text": [
      "10,rf,0.0,128,0.5309200882911682,0.5159294605255127\n",
      "\n",
      "10,rf,0.0,256,0.49594518542289734,0.65325927734375\n",
      "\n",
      "10,rf,0.0,512,0.5487709045410156,0.994964599609375\n",
      "\n",
      "10,rf,0.0,1024,0.5092992782592773,1.8338210582733154\n",
      "\n",
      "10,rf,0.0,2048,0.5068292617797852,3.970792293548584\n",
      "\n",
      "10,rf,0.0,8096,0.5030264258384705,21.190895557403564\n",
      "\n",
      "10,rf,0.25,128,0.5702865719795227,0.4957125186920166\n",
      "\n",
      "10,rf,0.25,256,0.629050076007843,0.6247773170471191\n",
      "\n",
      "10,rf,0.25,512,0.6308512687683105,0.9626574516296387\n",
      "\n",
      "10,rf,0.25,1024,0.6235470175743103,1.6151199340820312\n",
      "\n",
      "10,rf,0.25,2048,0.6367167234420776,3.2666213512420654\n",
      "\n",
      "10,rf,0.25,8096,0.6366714835166931,14.225350379943848\n",
      "\n",
      "10,rf,0.5,128,0.6994720697402954,0.48907971382141113\n",
      "\n",
      "10,rf,0.5,256,0.7423186898231506,0.6067798137664795\n",
      "\n",
      "10,rf,0.5,512,0.7539263367652893,0.8784573078155518\n",
      "\n",
      "10,rf,0.5,1024,0.7729596495628357,1.4654514789581299\n",
      "\n",
      "10,rf,0.5,2048,0.7651347517967224,2.8497238159179688\n",
      "\n",
      "10,rf,0.5,8096,0.7679094672203064,12.819429397583008\n",
      "\n",
      "10,rf,0.75,128,0.8555052876472473,0.47698473930358887\n",
      "\n",
      "10,rf,0.75,256,0.8887112140655518,0.5860490798950195\n",
      "\n",
      "10,rf,0.75,512,0.8808656334877014,0.8349876403808594\n",
      "\n",
      "10,rf,0.75,1024,0.8686433434486389,1.4279158115386963\n",
      "\n",
      "10,rf,0.75,2048,0.8623017072677612,2.6851935386657715\n",
      "\n",
      "10,rf,0.75,8096,0.8696269392967224,12.227771520614624\n",
      "\n",
      "10,rf,1.0,128,0.8749622702598572,0.476351261138916\n",
      "\n",
      "10,rf,1.0,256,0.9042832851409912,0.5802707672119141\n",
      "\n",
      "10,rf,1.0,512,0.9130989909172058,0.8170440196990967\n",
      "\n",
      "10,rf,1.0,1024,0.9272478818893433,1.3732187747955322\n",
      "\n",
      "10,rf,1.0,2048,0.9282248020172119,2.628946542739868\n",
      "\n",
      "10,rf,1.0,8096,0.9318179488182068,12.15562629699707\n",
      "\n",
      "10,rf,1.25,128,0.9493212699890137,0.46962904930114746\n",
      "\n",
      "10,rf,1.25,256,0.9687416553497314,0.5610203742980957\n",
      "\n",
      "10,rf,1.25,512,0.9599378108978271,0.7886550426483154\n",
      "\n",
      "10,rf,1.25,1024,0.9692360758781433,1.3193495273590088\n",
      "\n",
      "10,rf,1.25,2048,0.9677739143371582,2.590153217315674\n",
      "\n",
      "10,rf,1.25,8096,0.9703555107116699,12.321477174758911\n",
      "\n",
      "10,rf,1.5,128,0.9765459895133972,0.4641392230987549\n",
      "\n",
      "10,rf,1.5,256,0.9785075187683105,0.5498793125152588\n",
      "\n",
      "10,rf,1.5,512,0.9853419661521912,0.7691514492034912\n",
      "\n",
      "10,rf,1.5,1024,0.9858417510986328,1.294787883758545\n",
      "\n",
      "10,rf,1.5,2048,0.9875484704971313,2.600203037261963\n",
      "\n",
      "10,rf,1.5,8096,0.9890684485435486,12.577839612960815\n",
      "\n",
      "10,rf,1.75,128,0.988310694694519,0.5092556476593018\n",
      "\n",
      "10,rf,1.75,256,0.9902341365814209,0.6388118267059326\n",
      "\n",
      "10,rf,1.75,512,0.9931659698486328,1.0531127452850342\n",
      "\n",
      "10,rf,1.75,1024,0.9941391944885254,1.4125792980194092\n",
      "\n",
      "10,rf,1.75,2048,0.9958494901657104,2.5202813148498535\n",
      "\n",
      "10,rf,1.75,8096,0.9954299330711365,12.592328786849976\n",
      "\n",
      "10,rf,2.0,128,0.9923076629638672,0.45456409454345703\n",
      "\n",
      "10,rf,2.0,256,0.9980582594871521,0.5216641426086426\n",
      "\n",
      "10,rf,2.0,512,0.9980487823486328,0.7174582481384277\n",
      "\n",
      "10,rf,2.0,1024,0.9980475902557373,1.1915857791900635\n",
      "\n",
      "10,rf,2.0,2048,0.9982911944389343,2.37479829788208\n",
      "\n",
      "10,rf,2.0,8096,0.9984560012817383,12.236571788787842\n",
      "\n"
     ]
    }
   ],
   "source": [
    "header = \"ndims,mode,dist_sigma,nsamples,c2st_score,time_sec\"\n",
    "with open(\"rf_results.csv\",\"w\") as ocsv:\n",
    "    ocsv.write(header+\"\\n\")\n",
    "    for k in samples.keys():\n",
    "        for idx in range(len(sample_sizes)):\n",
    "            \n",
    "            row = f\"{NDIM},rf,{k},{sample_sizes[idx]},{rf_results[k][idx]},{rf_timings[k][idx]}\\n\"\n",
    "            print(row)\n",
    "            ocsv.write(row)"
   ]
  },
  {
   "cell_type": "code",
   "execution_count": 24,
   "metadata": {
    "collapsed": false
   },
   "outputs": [
    {
     "name": "stdout",
     "output_type": "stream",
     "text": [
      "ndims,mode,dist_sigma,nsamples,c2st_score,time_sec\r\n",
      "10,rf,0.0,128,0.5309200882911682,0.5159294605255127\r\n",
      "10,rf,0.0,256,0.49594518542289734,0.65325927734375\r\n",
      "10,rf,0.0,512,0.5487709045410156,0.994964599609375\r\n",
      "10,rf,0.0,1024,0.5092992782592773,1.8338210582733154\r\n",
      "10,rf,0.0,2048,0.5068292617797852,3.970792293548584\r\n",
      "10,rf,0.0,8096,0.5030264258384705,21.190895557403564\r\n",
      "10,rf,0.25,128,0.5702865719795227,0.4957125186920166\r\n",
      "10,rf,0.25,256,0.629050076007843,0.6247773170471191\r\n",
      "10,rf,0.25,512,0.6308512687683105,0.9626574516296387\r\n",
      "10,rf,0.25,1024,0.6235470175743103,1.6151199340820312\r\n",
      "10,rf,0.25,2048,0.6367167234420776,3.2666213512420654\r\n",
      "10,rf,0.25,8096,0.6366714835166931,14.225350379943848\r\n",
      "10,rf,0.5,128,0.6994720697402954,0.48907971382141113\r\n",
      "10,rf,0.5,256,0.7423186898231506,0.6067798137664795\r\n",
      "10,rf,0.5,512,0.7539263367652893,0.8784573078155518\r\n",
      "10,rf,0.5,1024,0.7729596495628357,1.4654514789581299\r\n",
      "10,rf,0.5,2048,0.7651347517967224,2.8497238159179688\r\n",
      "10,rf,0.5,8096,0.7679094672203064,12.819429397583008\r\n",
      "10,rf,0.75,128,0.8555052876472473,0.47698473930358887\r\n",
      "10,rf,0.75,256,0.8887112140655518,0.5860490798950195\r\n",
      "10,rf,0.75,512,0.8808656334877014,0.8349876403808594\r\n",
      "10,rf,0.75,1024,0.8686433434486389,1.4279158115386963\r\n",
      "10,rf,0.75,2048,0.8623017072677612,2.6851935386657715\r\n",
      "10,rf,0.75,8096,0.8696269392967224,12.227771520614624\r\n",
      "10,rf,1.0,128,0.8749622702598572,0.476351261138916\r\n",
      "10,rf,1.0,256,0.9042832851409912,0.5802707672119141\r\n",
      "10,rf,1.0,512,0.9130989909172058,0.8170440196990967\r\n",
      "10,rf,1.0,1024,0.9272478818893433,1.3732187747955322\r\n",
      "10,rf,1.0,2048,0.9282248020172119,2.628946542739868\r\n",
      "10,rf,1.0,8096,0.9318179488182068,12.15562629699707\r\n",
      "10,rf,1.25,128,0.9493212699890137,0.46962904930114746\r\n",
      "10,rf,1.25,256,0.9687416553497314,0.5610203742980957\r\n",
      "10,rf,1.25,512,0.9599378108978271,0.7886550426483154\r\n",
      "10,rf,1.25,1024,0.9692360758781433,1.3193495273590088\r\n",
      "10,rf,1.25,2048,0.9677739143371582,2.590153217315674\r\n",
      "10,rf,1.25,8096,0.9703555107116699,12.321477174758911\r\n",
      "10,rf,1.5,128,0.9765459895133972,0.4641392230987549\r\n",
      "10,rf,1.5,256,0.9785075187683105,0.5498793125152588\r\n",
      "10,rf,1.5,512,0.9853419661521912,0.7691514492034912\r\n",
      "10,rf,1.5,1024,0.9858417510986328,1.294787883758545\r\n",
      "10,rf,1.5,2048,0.9875484704971313,2.600203037261963\r\n",
      "10,rf,1.5,8096,0.9890684485435486,12.577839612960815\r\n",
      "10,rf,1.75,128,0.988310694694519,0.5092556476593018\r\n",
      "10,rf,1.75,256,0.9902341365814209,0.6388118267059326\r\n",
      "10,rf,1.75,512,0.9931659698486328,1.0531127452850342\r\n",
      "10,rf,1.75,1024,0.9941391944885254,1.4125792980194092\r\n",
      "10,rf,1.75,2048,0.9958494901657104,2.5202813148498535\r\n",
      "10,rf,1.75,8096,0.9954299330711365,12.592328786849976\r\n",
      "10,rf,2.0,128,0.9923076629638672,0.45456409454345703\r\n",
      "10,rf,2.0,256,0.9980582594871521,0.5216641426086426\r\n",
      "10,rf,2.0,512,0.9980487823486328,0.7174582481384277\r\n",
      "10,rf,2.0,1024,0.9980475902557373,1.1915857791900635\r\n",
      "10,rf,2.0,2048,0.9982911944389343,2.37479829788208\r\n",
      "10,rf,2.0,8096,0.9984560012817383,12.236571788787842\r\n"
     ]
    }
   ],
   "source": [
    "!cat rf_results.csv"
   ]
  },
  {
   "cell_type": "code",
   "execution_count": 25,
   "metadata": {
    "collapsed": false
   },
   "outputs": [
    {
     "name": "stdout",
     "output_type": "stream",
     "text": [
      "1/54: 0.0[128,...] = [0.4649321] (6.982034206390381 seconds)\n"
     ]
    },
    {
     "name": "stdout",
     "output_type": "stream",
     "text": [
      "2/54: 0.0[256,...] = [0.5021702] (18.391536712646484 seconds)\n"
     ]
    },
    {
     "name": "stdout",
     "output_type": "stream",
     "text": [
      "3/54: 0.0[512,...] = [0.5439694] (28.89311933517456 seconds)\n"
     ]
    },
    {
     "name": "stdout",
     "output_type": "stream",
     "text": [
      "4/54: 0.0[1024,...] = [0.526871] (54.0725200176239 seconds)\n"
     ]
    },
    {
     "name": "stdout",
     "output_type": "stream",
     "text": [
      "5/54: 0.0[2048,...] = [0.5070788] (123.58810925483704 seconds)\n"
     ]
    },
    {
     "name": "stdout",
     "output_type": "stream",
     "text": [
      "6/54: 0.0[8096,...] = [0.5031488] (509.06522130966187 seconds)\n"
     ]
    },
    {
     "name": "stdout",
     "output_type": "stream",
     "text": [
      "7/54: 0.25[128,...] = [0.5816742] (10.589311361312866 seconds)\n"
     ]
    },
    {
     "name": "stdout",
     "output_type": "stream",
     "text": [
      "8/54: 0.25[256,...] = [0.60930896] (20.84875774383545 seconds)\n"
     ]
    },
    {
     "name": "stdout",
     "output_type": "stream",
     "text": [
      "9/54: 0.25[512,...] = [0.58786225] (32.01209735870361 seconds)\n"
     ]
    },
    {
     "name": "stdout",
     "output_type": "stream",
     "text": [
      "10/54: 0.25[1024,...] = [0.5791043] (62.982462644577026 seconds)\n"
     ]
    },
    {
     "name": "stdout",
     "output_type": "stream",
     "text": [
      "11/54: 0.25[2048,...] = [0.58666486] (135.8197956085205 seconds)\n"
     ]
    },
    {
     "name": "stdout",
     "output_type": "stream",
     "text": [
      "12/54: 0.25[8096,...] = [0.5701574] (690.5073640346527 seconds)\n"
     ]
    },
    {
     "name": "stdout",
     "output_type": "stream",
     "text": [
      "13/54: 0.5[128,...] = [0.70746607] (10.090089082717896 seconds)\n"
     ]
    },
    {
     "name": "stdout",
     "output_type": "stream",
     "text": [
      "14/54: 0.5[256,...] = [0.69333714] (28.960004329681396 seconds)\n"
     ]
    },
    {
     "name": "stdout",
     "output_type": "stream",
     "text": [
      "15/54: 0.5[512,...] = [0.7070349] (43.92514443397522 seconds)\n"
     ]
    },
    {
     "name": "stdout",
     "output_type": "stream",
     "text": [
      "16/54: 0.5[1024,...] = [0.72313076] (76.67817330360413 seconds)\n"
     ]
    },
    {
     "name": "stdout",
     "output_type": "stream",
     "text": [
      "17/54: 0.5[2048,...] = [0.73168737] (148.7741618156433 seconds)\n"
     ]
    },
    {
     "name": "stdout",
     "output_type": "stream",
     "text": [
      "18/54: 0.5[8096,...] = [0.7093626] (577.8812856674194 seconds)\n"
     ]
    },
    {
     "name": "stdout",
     "output_type": "stream",
     "text": [
      "19/54: 0.75[128,...] = [0.8751131] (6.228252649307251 seconds)\n"
     ]
    },
    {
     "name": "stdout",
     "output_type": "stream",
     "text": [
      "20/54: 0.75[256,...] = [0.85537785] (21.79594659805298 seconds)\n"
     ]
    },
    {
     "name": "stdout",
     "output_type": "stream",
     "text": [
      "21/54: 0.75[512,...] = [0.86128646] (32.100399017333984 seconds)\n"
     ]
    },
    {
     "name": "stdout",
     "output_type": "stream",
     "text": [
      "22/54: 0.75[1024,...] = [0.85107994] (56.44421625137329 seconds)\n"
     ]
    },
    {
     "name": "stdout",
     "output_type": "stream",
     "text": [
      "23/54: 0.75[2048,...] = [0.84252447] (112.76290535926819 seconds)\n"
     ]
    },
    {
     "name": "stdout",
     "output_type": "stream",
     "text": [
      "24/54: 0.75[8096,...] = [0.8411555] (402.5190885066986 seconds)\n"
     ]
    },
    {
     "name": "stdout",
     "output_type": "stream",
     "text": [
      "25/54: 1.0[128,...] = [0.9062594] (5.21303391456604 seconds)\n"
     ]
    },
    {
     "name": "stdout",
     "output_type": "stream",
     "text": [
      "26/54: 1.0[256,...] = [0.90820485] (16.347495079040527 seconds)\n"
     ]
    },
    {
     "name": "stdout",
     "output_type": "stream",
     "text": [
      "27/54: 1.0[512,...] = [0.9111143] (16.1702241897583 seconds)\n"
     ]
    },
    {
     "name": "stdout",
     "output_type": "stream",
     "text": [
      "28/54: 1.0[1024,...] = [0.92235196] (26.505642890930176 seconds)\n"
     ]
    },
    {
     "name": "stdout",
     "output_type": "stream",
     "text": [
      "29/54: 1.0[2048,...] = [0.9187031] (54.359280824661255 seconds)\n"
     ]
    },
    {
     "name": "stdout",
     "output_type": "stream",
     "text": [
      "30/54: 1.0[8096,...] = [0.9159462] (281.2870545387268 seconds)\n"
     ]
    },
    {
     "name": "stdout",
     "output_type": "stream",
     "text": [
      "31/54: 1.25[128,...] = [0.93755656] (2.3409054279327393 seconds)\n"
     ]
    },
    {
     "name": "stdout",
     "output_type": "stream",
     "text": [
      "32/54: 1.25[256,...] = [0.9550543] (6.887072563171387 seconds)\n"
     ]
    },
    {
     "name": "stdout",
     "output_type": "stream",
     "text": [
      "33/54: 1.25[512,...] = [0.95214254] (10.649713039398193 seconds)\n"
     ]
    },
    {
     "name": "stdout",
     "output_type": "stream",
     "text": [
      "34/54: 1.25[1024,...] = [0.9663045] (19.645933628082275 seconds)\n"
     ]
    },
    {
     "name": "stdout",
     "output_type": "stream",
     "text": [
      "35/54: 1.25[2048,...] = [0.9665535] (33.377681732177734 seconds)\n"
     ]
    },
    {
     "name": "stdout",
     "output_type": "stream",
     "text": [
      "36/54: 1.25[8096,...] = [0.9639944] (182.7131426334381 seconds)\n"
     ]
    },
    {
     "name": "stdout",
     "output_type": "stream",
     "text": [
      "37/54: 1.5[128,...] = [0.9843137] (2.26505446434021 seconds)\n"
     ]
    },
    {
     "name": "stdout",
     "output_type": "stream",
     "text": [
      "38/54: 1.5[256,...] = [0.9824291] (3.7571702003479004 seconds)\n"
     ]
    },
    {
     "name": "stdout",
     "output_type": "stream",
     "text": [
      "39/54: 1.5[512,...] = [0.9843711] (8.773359298706055 seconds)\n"
     ]
    },
    {
     "name": "stdout",
     "output_type": "stream",
     "text": [
      "40/54: 1.5[1024,...] = [0.98340154] (12.13750672340393 seconds)\n"
     ]
    },
    {
     "name": "stdout",
     "output_type": "stream",
     "text": [
      "41/54: 1.5[2048,...] = [0.98437387] (23.305691480636597 seconds)\n"
     ]
    },
    {
     "name": "stdout",
     "output_type": "stream",
     "text": [
      "42/54: 1.5[8096,...] = [0.98591906] (102.44566059112549 seconds)\n"
     ]
    },
    {
     "name": "stdout",
     "output_type": "stream",
     "text": [
      "43/54: 1.75[128,...] = [0.9882353] (2.3607404232025146 seconds)\n"
     ]
    },
    {
     "name": "stdout",
     "output_type": "stream",
     "text": [
      "44/54: 1.75[256,...] = [0.9823529] (3.0930984020233154 seconds)\n"
     ]
    },
    {
     "name": "stdout",
     "output_type": "stream",
     "text": [
      "45/54: 1.75[512,...] = [0.9863271] (4.608965635299683 seconds)\n"
     ]
    },
    {
     "name": "stdout",
     "output_type": "stream",
     "text": [
      "46/54: 1.75[1024,...] = [0.9912088] (8.245190620422363 seconds)\n"
     ]
    },
    {
     "name": "stdout",
     "output_type": "stream",
     "text": [
      "47/54: 1.75[2048,...] = [0.9953614] (11.485974311828613 seconds)\n"
     ]
    },
    {
     "name": "stdout",
     "output_type": "stream",
     "text": [
      "48/54: 1.75[8096,...] = [0.99487394] (67.4766194820404 seconds)\n"
     ]
    },
    {
     "name": "stdout",
     "output_type": "stream",
     "text": [
      "49/54: 2.0[128,...] = [0.9883107] (1.8419666290283203 seconds)\n"
     ]
    },
    {
     "name": "stdout",
     "output_type": "stream",
     "text": [
      "50/54: 2.0[256,...] = [0.9882353] (2.3699238300323486 seconds)\n"
     ]
    },
    {
     "name": "stdout",
     "output_type": "stream",
     "text": [
      "51/54: 2.0[512,...] = [0.9931564] (3.8780014514923096 seconds)\n"
     ]
    },
    {
     "name": "stdout",
     "output_type": "stream",
     "text": [
      "52/54: 2.0[1024,...] = [0.994627] (5.921618461608887 seconds)\n"
     ]
    },
    {
     "name": "stdout",
     "output_type": "stream",
     "text": [
      "53/54: 2.0[2048,...] = [0.9973147] (9.838232278823853 seconds)\n"
     ]
    },
    {
     "name": "stdout",
     "output_type": "stream",
     "text": [
      "54/54: 2.0[8096,...] = [0.99895006] (28.462652683258057 seconds)\n"
     ]
    }
   ],
   "source": [
    "nn_results = {}\n",
    "nn_timings = {}\n",
    "cnt = 0\n",
    "\n",
    "for k,v in samples.items():\n",
    "    for size in sample_sizes:\n",
    "\n",
    "        try:\n",
    "            start = time.time()\n",
    "            scores = nn_c2st(center_samples[:size,...],\n",
    "                             v[:size,...])\n",
    "            end = time.time()\n",
    "        except Exception as ex:\n",
    "            print(ex)\n",
    "            continue\n",
    "        \n",
    "        if not k in nn_results.keys():\n",
    "            nn_results[k] = []\n",
    "            nn_timings[k] = []\n",
    "\n",
    "        nn_results[k].extend(scores)\n",
    "        nn_timings[k].append(end-start)\n",
    "        cnt += 1\n",
    "\n",
    "        print(f\"{cnt}/{total}: {k}[{size},...] = {scores} ({end-start} seconds)\")"
   ]
  },
  {
   "cell_type": "code",
   "execution_count": 26,
   "metadata": {
    "collapsed": false
   },
   "outputs": [
    {
     "name": "stdout",
     "output_type": "stream",
     "text": [
      "10,nn,0.0,128,0.4649321138858795,6.982034206390381\n",
      "\n",
      "10,nn,0.0,256,0.502170205116272,18.391536712646484\n",
      "\n",
      "10,nn,0.0,512,0.5439693927764893,28.89311933517456\n",
      "\n",
      "10,nn,0.0,1024,0.5268710255622864,54.0725200176239\n",
      "\n",
      "10,nn,0.0,2048,0.5070788264274597,123.58810925483704\n",
      "\n",
      "10,nn,0.0,8096,0.5031487941741943,509.06522130966187\n",
      "\n",
      "10,nn,0.25,128,0.5816742181777954,10.589311361312866\n",
      "\n",
      "10,nn,0.25,256,0.6093089580535889,20.84875774383545\n",
      "\n",
      "10,nn,0.25,512,0.5878622531890869,32.01209735870361\n",
      "\n",
      "10,nn,0.25,1024,0.5791043043136597,62.982462644577026\n",
      "\n",
      "10,nn,0.25,2048,0.5866648554801941,135.8197956085205\n",
      "\n",
      "10,nn,0.25,8096,0.5701574087142944,690.5073640346527\n",
      "\n",
      "10,nn,0.5,128,0.7074660658836365,10.090089082717896\n",
      "\n",
      "10,nn,0.5,256,0.6933371424674988,28.960004329681396\n",
      "\n",
      "10,nn,0.5,512,0.7070348858833313,43.92514443397522\n",
      "\n",
      "10,nn,0.5,1024,0.7231307625770569,76.67817330360413\n",
      "\n",
      "10,nn,0.5,2048,0.7316873669624329,148.7741618156433\n",
      "\n",
      "10,nn,0.5,8096,0.7093626260757446,577.8812856674194\n",
      "\n",
      "10,nn,0.75,128,0.8751131296157837,6.228252649307251\n",
      "\n",
      "10,nn,0.75,256,0.8553778529167175,21.79594659805298\n",
      "\n",
      "10,nn,0.75,512,0.861286461353302,32.100399017333984\n",
      "\n",
      "10,nn,0.75,1024,0.8510799407958984,56.44421625137329\n",
      "\n",
      "10,nn,0.75,2048,0.8425244688987732,112.76290535926819\n",
      "\n",
      "10,nn,0.75,8096,0.8411555290222168,402.5190885066986\n",
      "\n",
      "10,nn,1.0,128,0.9062594175338745,5.21303391456604\n",
      "\n",
      "10,nn,1.0,256,0.9082048535346985,16.347495079040527\n",
      "\n",
      "10,nn,1.0,512,0.9111142754554749,16.1702241897583\n",
      "\n",
      "10,nn,1.0,1024,0.9223519563674927,26.505642890930176\n",
      "\n",
      "10,nn,1.0,2048,0.9187030792236328,54.359280824661255\n",
      "\n",
      "10,nn,1.0,8096,0.9159461855888367,281.2870545387268\n",
      "\n",
      "10,nn,1.25,128,0.9375565648078918,2.3409054279327393\n",
      "\n",
      "10,nn,1.25,256,0.9550542831420898,6.887072563171387\n",
      "\n",
      "10,nn,1.25,512,0.9521425366401672,10.649713039398193\n",
      "\n",
      "10,nn,1.25,1024,0.9663044810295105,19.645933628082275\n",
      "\n",
      "10,nn,1.25,2048,0.9665535092353821,33.377681732177734\n",
      "\n",
      "10,nn,1.25,8096,0.9639943838119507,182.7131426334381\n",
      "\n",
      "10,nn,1.5,128,0.9843137264251709,2.26505446434021\n",
      "\n",
      "10,nn,1.5,256,0.9824290871620178,3.7571702003479004\n",
      "\n",
      "10,nn,1.5,512,0.9843711256980896,8.773359298706055\n",
      "\n",
      "10,nn,1.5,1024,0.9834015369415283,12.13750672340393\n",
      "\n",
      "10,nn,1.5,2048,0.9843738675117493,23.305691480636597\n",
      "\n",
      "10,nn,1.5,8096,0.9859190583229065,102.44566059112549\n",
      "\n",
      "10,nn,1.75,128,0.9882352948188782,2.3607404232025146\n",
      "\n",
      "10,nn,1.75,256,0.9823529124259949,3.0930984020233154\n",
      "\n",
      "10,nn,1.75,512,0.9863271117210388,4.608965635299683\n",
      "\n",
      "10,nn,1.75,1024,0.9912087917327881,8.245190620422363\n",
      "\n",
      "10,nn,1.75,2048,0.9953613877296448,11.485974311828613\n",
      "\n",
      "10,nn,1.75,8096,0.9948739409446716,67.4766194820404\n",
      "\n",
      "10,nn,2.0,128,0.988310694694519,1.8419666290283203\n",
      "\n",
      "10,nn,2.0,256,0.9882352948188782,2.3699238300323486\n",
      "\n",
      "10,nn,2.0,512,0.993156373500824,3.8780014514923096\n",
      "\n",
      "10,nn,2.0,1024,0.9946269989013672,5.921618461608887\n",
      "\n",
      "10,nn,2.0,2048,0.9973146915435791,9.838232278823853\n",
      "\n",
      "10,nn,2.0,8096,0.9989500641822815,28.462652683258057\n",
      "\n"
     ]
    }
   ],
   "source": [
    "with open(\"nn_results.csv\",\"w\") as ocsv:\n",
    "    ocsv.write(header+\"\\n\")\n",
    "    for k in samples.keys():\n",
    "        for idx in range(len(sample_sizes)):\n",
    "            \n",
    "            row = f\"{NDIM},nn,{k},{sample_sizes[idx]},{nn_results[k][idx]},{nn_timings[k][idx]}\\n\"\n",
    "            print(row)\n",
    "            ocsv.write(row)"
   ]
  },
  {
   "cell_type": "code",
   "execution_count": 27,
   "metadata": {
    "collapsed": false
   },
   "outputs": [
    {
     "name": "stdout",
     "output_type": "stream",
     "text": [
      "ndims,mode,dist_sigma,nsamples,c2st_score,time_sec\r\n",
      "10,nn,0.0,128,0.4649321138858795,6.982034206390381\r\n",
      "10,nn,0.0,256,0.502170205116272,18.391536712646484\r\n",
      "10,nn,0.0,512,0.5439693927764893,28.89311933517456\r\n",
      "10,nn,0.0,1024,0.5268710255622864,54.0725200176239\r\n",
      "10,nn,0.0,2048,0.5070788264274597,123.58810925483704\r\n",
      "10,nn,0.0,8096,0.5031487941741943,509.06522130966187\r\n",
      "10,nn,0.25,128,0.5816742181777954,10.589311361312866\r\n",
      "10,nn,0.25,256,0.6093089580535889,20.84875774383545\r\n",
      "10,nn,0.25,512,0.5878622531890869,32.01209735870361\r\n"
     ]
    }
   ],
   "source": [
    "!head -n10 nn_results.csv"
   ]
  },
  {
   "cell_type": "code",
   "execution_count": null,
   "metadata": {
    "collapsed": false
   },
   "outputs": [],
   "source": []
  }
 ],
 "metadata": {
  "kernelspec": {
   "argv": [
    "python",
    "-m",
    "ipykernel_launcher",
    "-f",
    "{connection_file}"
   ],
   "display_name": "Python 3 (ipykernel)",
   "env": null,
   "interrupt_mode": "signal",
   "language": "python",
   "metadata": {
    "debugger": true
   },
   "name": "python3"
  },
  "name": "c2st_quality_study.ipynb"
 },
 "nbformat": 4,
 "nbformat_minor": 4
}
